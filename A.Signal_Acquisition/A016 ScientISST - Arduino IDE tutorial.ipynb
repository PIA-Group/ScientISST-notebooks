{
 "cells": [
  {
   "cell_type": "markdown",
   "id": "7c7e72b3",
   "metadata": {},
   "source": [
    "# <div  style=\"color:#303030;font-family:'arial blACK', sans-serif,monospace; text-align: center; padding: 50px 0; vertical-align:middle;\" > <img src=\"https://raw.githubusercontent.com/PIA-Group/ScientISST-notebooks/master/_Resources/Images/logo.png\" style=\" background:#00a0e4;border-radius:10px;width:150px;text-align:right; margin-left:10%\" width=100 height=100 align=\"right\" /> <span style=\"position:relative; bottom:70px; margin-left:5%\"> <br><br> ScientISST - Arduino IDE Tutorial </span> </div>"
   ]
  },
  {
   "cell_type": "markdown",
   "id": "68aaa0dc",
   "metadata": {},
   "source": [
    "## <span style=\"color:#fbb144;\"> Keywords: </span>"
   ]
  },
  {
   "cell_type": "markdown",
   "id": "67f4d085",
   "metadata": {},
   "source": [
    "```Sense```, ```Arduino```, ```IDE```"
   ]
  },
  {
   "cell_type": "markdown",
   "id": "29bd60f8",
   "metadata": {},
   "source": [
    "# I. Introduction\n",
    "<br>\n",
    "<div class=\"title\"style=\"width:100%; background:linear-gradient(to right,#FDC86E,#fbb144);font-family:'arial black',monospace; text-align: center; padding: 7px 0; border-radius: 5px 50px;margin-top:-15px\" >  </div>"
   ]
  },
  {
   "cell_type": "markdown",
   "id": "b9e9f899",
   "metadata": {},
   "source": [
    "## <div style=\"color:#fbb144;\"> 1. Background </div>"
   ]
  },
  {
   "cell_type": "markdown",
   "id": "26e70ee0",
   "metadata": {},
   "source": [
    "The ScientISST - Sense development board is an hardware platform, designed to empower students, researchers or anyone with an interest in developing biomedical solutions with the tools to easily create microcontroller-based devices and bring their health and well-being creations to life. \n",
    "\n",
    "In this tutorial, we will dive into the world of embedded systems programming and show how you can write, compile, program and execute your own code on the ScientISST - Sense development board through Arduino's Integrated Development Environment (IDE), whether you’re using Windows, Mac OS X or Linux."
   ]
  },
  {
   "cell_type": "markdown",
   "id": "14f722c1",
   "metadata": {},
   "source": [
    "<table>\n",
    "<tr>\n",
    "<td> <img src=\"https://raw.githubusercontent.com/PIA-Group/ScientISST-notebooks/master/_Resources/Images/A.Signal_Acquisition_IMG/a016/sense_front_off.png\" width=\"300\" style=\"display:block; margin:auto\"/> </td>\n",
    "</tr></table>"
   ]
  },
  {
   "cell_type": "markdown",
   "id": "6b52b995",
   "metadata": {},
   "source": [
    "## <div style=\"color:#fbb144\"> 2. Objectives</div>\n",
    "\n",
    "* Understand the ScientISST - Sense development board and computational paradigm\n",
    "* Setup the development tools in your computer\n",
    "* Write, compile, program and execute code on the ScientISST - Sense development board"
   ]
  },
  {
   "cell_type": "markdown",
   "id": "02b2ae3c",
   "metadata": {},
   "source": [
    "## <div style=\"color:#fbb144\"> 3. Materials </div>\n",
    "\n",
    "* Arduino IDE\n",
    "* 1x ScientISST - Sense development board\n",
    "* 1x USB-C cable"
   ]
  },
  {
   "cell_type": "markdown",
   "id": "a9735e66",
   "metadata": {},
   "source": [
    "# II. Experimental\n",
    "<br>\n",
    "<div style=\"width:100%; background:linear-gradient(to right,#FDC86E,#fbb144);font-family:'arial black',monospace; text-align: center; padding: 7px 0; border-radius: 5px 50px;margin-top:-15px\" >  </div>"
   ]
  },
  {
   "cell_type": "markdown",
   "id": "1d33e702",
   "metadata": {},
   "source": [
    "## <div style=\"color:#fbb144\">  1. Prerequisites - Installing the Arduino IDE </div>"
   ]
  },
  {
   "cell_type": "markdown",
   "id": "5ac569af",
   "metadata": {},
   "source": [
    "Before starting this tutorial, you need to download and install the latest version of the Arduino IDE from: https://www.arduino.cc/en/software [[1]](#reference_1). If you don’t have the latest version installed, uninstall Arduino IDE and install it again. Otherwise, it may not work.\n",
    "\n",
    "After you have the latest Arduino IDE software installed in your computer, open the software to confirm that it is working. \n",
    "\n",
    "Hovering with the mouse pointer on each button shows a brief description of its function. The following figure \n",
    "summarizes these functionalities:"
   ]
  },
  {
   "cell_type": "markdown",
   "id": "5ffd44b5",
   "metadata": {},
   "source": [
    "<table title=\"Overview of the Arduino IDE Graphical User Interface (GUI)\">\n",
    "    <caption>Overview of the Arduino IDE Graphical User Interface (GUI)</caption>\n",
    "    <tr>\n",
    "<td> <img src=\"https://raw.githubusercontent.com/PIA-Group/ScientISST-notebooks/master/_Resources/Images/A.Signal_Acquisition_IMG/a016/ArduinoIDE.png\" width=\"500\"/> </td>\n",
    "<td> <img src=\"https://raw.githubusercontent.com/PIA-Group/ScientISST-notebooks/master/_Resources/Images/A.Signal_Acquisition_IMG/a016/ArduinoIDEexplained.png\" width=\"600\"/> </td>\n",
    "</tr></table>"
   ]
  },
  {
   "cell_type": "markdown",
   "id": "aa4d8aa1",
   "metadata": {},
   "source": [
    "> **Note:**\n",
    "To get a better understanding on the Arduino Software (IDE) and its functionalities, a more comprehensive guide on this topic is available at: https://www.arduino.cc/en/Guide/Environment [[2]](#reference_2)."
   ]
  },
  {
   "cell_type": "markdown",
   "id": "3fe9329e",
   "metadata": {},
   "source": [
    "## <div style=\"color:#fbb144\">  2. Installing the ESP32 Add-on in Arduino IDE </div>"
   ]
  },
  {
   "cell_type": "markdown",
   "id": "afc2a229",
   "metadata": {},
   "source": [
    "The ScientISST - Sense development board is built upon the ESP32-WROOM-32, a powerful, generic Wi-Fi+BT+BLE MCU module, which has at its core the ESP32-D0WDQ6 chip. This is why you first need to install the ESP32 add-on in the Arduino IDE in order to program the ScientISST - Sense development board from the Arduino IDE using its programming language (C/C++). To install this add-on, follow these next instructions:"
   ]
  },
  {
   "cell_type": "markdown",
   "id": "118af3b1",
   "metadata": {},
   "source": [
    "**2.1\\.** In the Arduino IDE, go to *File > Preferences*:<br>\n",
    "\n",
    "<table>\n",
    "<tr>\n",
    "<td> <img src=\"https://raw.githubusercontent.com/PIA-Group/ScientISST-notebooks/master/_Resources/Images/A.Signal_Acquisition_IMG/a016/file_preference_marked.png\" width=\"200\" style=\"display:block; margin:auto\"/> </td>\n",
    "</tr></table>"
   ]
  },
  {
   "cell_type": "markdown",
   "id": "773bc891",
   "metadata": {},
   "source": [
    "**2.2\\.** Enter `https://dl.espressif.com/dl/package_esp32_index.json`\n",
    "[[3]](#reference_3) into the “Additional Board Manager URLs” field (1) in the “Preferences” window as shown in the figure below. Then, click the “OK” button (2):<br>\n",
    "\n",
    "<table>\n",
    "<tr>\n",
    "<td> <img src=\"https://raw.githubusercontent.com/PIA-Group/ScientISST-notebooks/master/_Resources/Images/A.Signal_Acquisition_IMG/a016/preferences_marked.png\" width=\"600\" style=\"display:block; margin:auto\"/> </td>\n",
    "</tr></table>\n",
    "\n",
    "> **Note:** \n",
    "If you already have the URL of another board in the “Additional Board Manager URLs” field, you can separate the URLs with a comma as displayed in the figure above."
   ]
  },
  {
   "cell_type": "markdown",
   "id": "2b979ae0",
   "metadata": {},
   "source": [
    "**2.3\\.** Open the Boards Manager. Go to *Tools > Board > Boards Manager*<br>\n",
    "\n",
    "<table>\n",
    "<tr>\n",
    "<td> <img src=\"https://raw.githubusercontent.com/PIA-Group/ScientISST-notebooks/master/_Resources/Images/A.Signal_Acquisition_IMG/a016/tools_boards_marked.png\" width=\"600\" style=\"display:block; margin:auto\"/> </td>\n",
    "</tr></table>"
   ]
  },
  {
   "cell_type": "markdown",
   "id": "bb34051f",
   "metadata": {},
   "source": [
    "**2.4\\.** Search for ESP32 and press the “Install” button for the “**esp32** by **Espressif Systems**”:<br>\n",
    "\n",
    "<table>\n",
    "<tr>\n",
    "<td> <img src=\"https://raw.githubusercontent.com/PIA-Group/ScientISST-notebooks/master/_Resources/Images/A.Signal_Acquisition_IMG/a016/esp32_install_marked.png\" width=\"600\" style=\"display:block; margin:auto\"/> </td>\n",
    "</tr></table>"
   ]
  },
  {
   "cell_type": "markdown",
   "id": "a730f4f1",
   "metadata": {},
   "source": [
    "**2.5\\.** The add-on should be installed after a few seconds, as shown in the following figure:<br>\n",
    "\n",
    "<table>\n",
    "<tr>\n",
    "<td> <img src=\"https://raw.githubusercontent.com/PIA-Group/ScientISST-notebooks/master/_Resources/Images/A.Signal_Acquisition_IMG/a016/esp32_installed.png\" width=\"600\" style=\"display:block; margin:auto\"/> </td>\n",
    "</tr></table>\n",
    "\n",
    "$\\;\\;\\;\\;\\;\\;$ "
   ]
  },
  {
   "cell_type": "markdown",
   "id": "a69b6c95",
   "metadata": {},
   "source": [
    "## <div style=\"color:#fbb144\">3. Setting up your ScientISST board to upload code from the Arduino IDE </div>"
   ]
  },
  {
   "cell_type": "markdown",
   "id": "b076b6c6",
   "metadata": {},
   "source": [
    "**3.1.** Connect the USB-C cable to your computer and to the corresponding socket on the ScientISST - Sense development board:<br>\n",
    "\n",
    "&ensp;&ensp;&ensp;&ensp;&ensp;**3.1.1** Connect the standard USB-A connector to your computer:<br>\n",
    "   \n",
    "   <table>\n",
    "<tr>\n",
    "<td> <img src=\"https://raw.githubusercontent.com/PIA-Group/ScientISST-notebooks/master/_Resources/Images/A.Signal_Acquisition_IMG/a016/usb_pc.png\" width=\"600\" style=\"display:block; margin:auto\"/> </td>\n",
    "</tr></table>\n",
    "   \n",
    "&ensp;&ensp;&ensp;&ensp;&ensp;**3.1.2** Connect the other end to your ScientISST - Sense development board:<br>\n",
    "   \n",
    "   <table>\n",
    "<tr>\n",
    "<td> <img src=\"https://raw.githubusercontent.com/PIA-Group/ScientISST-notebooks/master/_Resources/Images/A.Signal_Acquisition_IMG/a016/usb_board.png\" width=\"400\" style=\"display:block; margin:auto\"/> </td>\n",
    "</tr></table>"
   ]
  },
  {
   "cell_type": "markdown",
   "id": "1cf453e0",
   "metadata": {},
   "source": [
    "At this point, the built-in blue LED on the back of the ScientISST - Sense development board should be on, and the built-in white LED on the front should be flashing repeatedly, if the board still carries the original firmware for the ScientISST - Sense development board."
   ]
  },
  {
   "cell_type": "markdown",
   "id": "fe52e670",
   "metadata": {},
   "source": [
    "**3.2\\.** In the Arduino IDE, go to `Tools > Board > ESP32 Arduino` and select your board model, i.e. ESP32 Dev Module:<br>\n",
    "\n",
    "<table>\n",
    "<tr>\n",
    "<td> <img src=\"https://raw.githubusercontent.com/PIA-Group/ScientISST-notebooks/master/_Resources/Images/A.Signal_Acquisition_IMG/a016/select_board_marked.png\" width=\"600\" style=\"display:block; margin:auto\"/> </td>\n",
    "</tr></table>"
   ]
  },
  {
   "cell_type": "markdown",
   "id": "4c5008eb",
   "metadata": {},
   "source": [
    "**3.3\\.** Go to `Tools > Port` and select the port that your ScientISST - Sense development board is using. On Windows it should have the prefix COM, followed by an integer number (as is the case in the figure below), and on Mac OS it should have the prefix /dev/cu.usb or /dev/tty.usb. Usually the port of your newly added device appears at the end of the list:\n",
    "\n",
    "<table>\n",
    "<tr>\n",
    "<td> <img src=\"https://raw.githubusercontent.com/PIA-Group/ScientISST-notebooks/master/_Resources/Images/A.Signal_Acquisition_IMG/a016/port_marked.png\" width=\"600\" style=\"display:block; margin:auto\"/> </td>\n",
    "</tr></table>\n",
    "\n",
    "> **Note:** \n",
    "If you don’t see the COM Port in your Arduino IDE, you need to install the CP210x USB to UART Bridge VCP Drivers from: https://www.silabs.com/developers/usb-to-uart-bridge-vcp-drivers [[4]](#reference_4)."
   ]
  },
  {
   "cell_type": "markdown",
   "id": "9f557ee7",
   "metadata": {},
   "source": [
    "**3.4\\.** To upload a sketch with your code written on the Arduino IDE, you must first put your ScientISST - Sense development board on **BOOT mode**. To do so, you will need to use the RESET and MODE buttons on the ScientISST - Sense development board, shown in the following figure:\n",
    "\n",
    "<table>\n",
    "<tr>\n",
    "<td> <img src=\"https://raw.githubusercontent.com/PIA-Group/ScientISST-notebooks/master/_Resources/Images/A.Signal_Acquisition_IMG/a016/reset_mode.png\" width=\"300\" style=\"display:block; margin:auto\"/> </td>\n",
    "</tr></table>"
   ]
  },
  {
   "cell_type": "markdown",
   "id": "221f4ed4",
   "metadata": {},
   "source": [
    "Before uploading the sketch:\n",
    "\n",
    "1. Hold down the MODE button\n",
    "2. Press the RESET button\n",
    "3. Release the MODE button\n",
    "\n",
    "If the previous steps were done correctly, the white LED should have stopped blinking.\n",
    "\n",
    "At this point, the ScientISST - Sense development board is now on BOOT mode and is ready to have the sketch uploaded to it."
   ]
  },
  {
   "cell_type": "markdown",
   "id": "ceb8919a",
   "metadata": {},
   "source": [
    "**3.5\\.** Upload the sketch to your board by clicking the “Upload” button in the Arduino IDE:\n",
    "\n",
    "<table>\n",
    "<tr>\n",
    "<td> <img src=\"https://raw.githubusercontent.com/PIA-Group/ScientISST-notebooks/master/_Resources/Images/A.Signal_Acquisition_IMG/a016/upload.png\" width=\"300\" style=\"display:block; margin:auto\"/> </td>\n",
    "</tr></table>"
   ]
  },
  {
   "cell_type": "markdown",
   "id": "c484d0bb",
   "metadata": {},
   "source": [
    "Wait a few seconds while the code compiles and uploads to your board. If everything went as expected, the MESSAGES section of the Arduino IDE should show a notification indicating that the code has been uploaded, and list general information regarding the device and memory use:\n",
    "\n",
    "<table>\n",
    "<tr>\n",
    "<td> <img src=\"https://raw.githubusercontent.com/PIA-Group/ScientISST-notebooks/master/_Resources/Images/A.Signal_Acquisition_IMG/a016/done_uploading.png\" width=\"600\" style=\"display:block; margin:auto\"/> </td>\n",
    "</tr></table>\n",
    "\n",
    "> **Note:**\n",
    "In case you obtain an error during the upload, read the output in the MESSAGES section carefully and you will likely be able to have a rough idea of what went wrong. The most common causes of problems are syntax errors in your code, a mismatching board version on the Arduino IDE, or a wrongly selected port, so please review your code and try to identify any typos or mismatching\n",
    "characters."
   ]
  },
  {
   "cell_type": "markdown",
   "id": "adeaf43d",
   "metadata": {},
   "source": [
    "**3.6\\.** Finally, press the RESET button to put your ScientISST - Sense development board on Execution mode and have it run the uploaded code.\n",
    "<br>\n",
    "<br>"
   ]
  },
  {
   "cell_type": "markdown",
   "id": "e5d91d20",
   "metadata": {},
   "source": [
    "## <div style=\"color:#fbb144\">  4. Testing your Setup  </div>"
   ]
  },
  {
   "cell_type": "markdown",
   "id": "506e1d22",
   "metadata": {},
   "source": [
    "To test your setup, follow the steps from Section III and upload the Blink sketch, one of the built-in examples of the Arduino IDE that can be loaded from `File > Examples > 01.Basics > Blink`:\n",
    "\n",
    "<table>\n",
    "<tr>\n",
    "<td> <img src=\"https://raw.githubusercontent.com/PIA-Group/ScientISST-notebooks/master/_Resources/Images/A.Signal_Acquisition_IMG/a016/blink.png\" width=\"600\" style=\"display:block; margin:auto\"/> </td>\n",
    "</tr></table>\n",
    "\n",
    "> **Note:**\n",
    "Don't forget to replace the ```LED_BUILTIN``` in the Blink sketch with the number of the pin connected to the white LED (GPIO 22).\n",
    "\n",
    "Upon successful completion of the process, the white LED on the front of the board should be on for one second, then off for one second, repeatedly.\n",
    "\n",
    "$\\;\\;\\;\\;\\;\\;$ "
   ]
  },
  {
   "cell_type": "markdown",
   "id": "23876435",
   "metadata": {},
   "source": [
    "# III. Explore\n",
    "<br>\n",
    "<div style=\"width:100%; background:linear-gradient(to right,#FDC86E,#fbb144);font-family:'arial black',monospace; text-align: center; padding: 7px 0; border-radius: 5px 50px;margin-top:-15px\" >  </div>"
   ]
  },
  {
   "cell_type": "markdown",
   "id": "3b8e7bbb",
   "metadata": {},
   "source": [
    "## <div style=\"color:#fbb144;\">  1. Final Notes</div>\n",
    "\n",
    "After following this tutorial, you should now be capable of writing, compiling, programing and executing your own code on the ScientISST - Sense development board through the Arduino IDE. We hope you find this hardware platform useful in the development of future projects and applications!\n",
    "\n",
    "As a final note, we leave here some words of **caution** to avoid damaging the board:\n",
    "\n",
    "> **NEVER:** \n",
    " <li> connect the voltage pins (e.g. the 3.3V pin) to another (external) voltage source, regardless of its type. <li> connect the voltage pins to the GND. <li> leave unconnected or “live” wires floating around your board, as they can inadvertently create short circuits between components. <li> bend, twist, cut, score, apply weight or otherwise perform any mechanical abuse to your board; it is fragile! <br> <br>\n",
    " **ALWAYS:** <li> think and study the problem carefully to reach a convincing solution that can achieve the goals your are trying to fulfill, before taking action.<li> have your board disconnected from the computer while assembling your circuits. "
   ]
  },
  {
   "cell_type": "markdown",
   "id": "89cdc85e",
   "metadata": {},
   "source": [
    "## <div style=\"color:#fbb144\">  2. Further Reading  </div>"
   ]
  },
  {
   "cell_type": "markdown",
   "id": "a77796a7",
   "metadata": {},
   "source": [
    "<a id='reference_1'></a> 1\\. https://www.arduino.cc/en/software\n",
    "\n",
    "<a id='reference_2'></a> 2\\. https://www.arduino.cc/en/Guide/Environment\n",
    "\n",
    "<a id='reference_3'></a> 3\\. https://dl.espressif.com/dl/package_esp32_index.json\n",
    "\n",
    "<a id='reference_4'></a> 4\\. https://www.silabs.com/developers/usb-to-uart-bridge-vcp-drivers"
   ]
  },
  {
   "cell_type": "markdown",
   "id": "b0cc8551",
   "metadata": {},
   "source": [
    "<div style=\"height:100px; background:white;border-radius:10px;text-align:center\"> \n",
    "\n",
    "<img src=\"https://raw.githubusercontent.com/PIA-Group/ScientISST-notebooks/master/_Resources/Images/IT.png\" alt=\"it\" style=\"bottom: 0; width:250px;\n",
    "    display: inline;\n",
    "    left: 250px;\n",
    "    position: absolute;\"/> \n",
    "\n",
    "    \n",
    "<img src=\"https://raw.githubusercontent.com/PIA-Group/ScientISST-notebooks/master/_Resources/Images/IST.png\" alt=\"alternate text\" \n",
    "         style=\"position: relative;   width:250px; float: left;\n",
    "    position: absolute;\n",
    "    display: inline;\n",
    "    bottom: 0;\n",
    "    right: 100;\"/>\n",
    "</div> "
   ]
  },
  {
   "cell_type": "markdown",
   "id": "e2e4b0f5",
   "metadata": {},
   "source": [
    "Please provide us your feedback <a href=\"https://forms.gle/C8TdLQUAS9r8BNJM8\">here</a>. \n",
    "<br>\n",
    "Suggestions are welcome! "
   ]
  },
  {
   "cell_type": "markdown",
   "id": "660e9b23",
   "metadata": {},
   "source": [
    "```Contributors: Prof. Hugo Silva; Leonor Pereira; Francisco Melo; Afonso Raposo```"
   ]
  }
 ],
 "metadata": {
  "kernelspec": {
   "display_name": "Python 3 (ipykernel)",
   "language": "python",
   "name": "python3"
  },
  "language_info": {
   "codemirror_mode": {
    "name": "ipython",
    "version": 3
   },
   "file_extension": ".py",
   "mimetype": "text/x-python",
   "name": "python",
   "nbconvert_exporter": "python",
   "pygments_lexer": "ipython3",
   "version": "3.9.7"
  }
 },
 "nbformat": 4,
 "nbformat_minor": 5
}
